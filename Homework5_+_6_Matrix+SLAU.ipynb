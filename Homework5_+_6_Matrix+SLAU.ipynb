{
  "nbformat": 4,
  "nbformat_minor": 0,
  "metadata": {
    "colab": {
      "name": "Homework5 + 6: Matrix+SLAU.ipynb",
      "provenance": [],
      "collapsed_sections": [],
      "authorship_tag": "ABX9TyPi2Nz77cRjPAinGV2rBhH6",
      "include_colab_link": true
    },
    "kernelspec": {
      "name": "python3",
      "display_name": "Python 3"
    },
    "language_info": {
      "name": "python"
    }
  },
  "cells": [
    {
      "cell_type": "markdown",
      "metadata": {
        "id": "view-in-github",
        "colab_type": "text"
      },
      "source": [
        "<a href=\"https://colab.research.google.com/github/nedokormysh/GB_Intro_Further_Mathematics/blob/lesson4/Homework5_%2B_6_Matrix%2BSLAU.ipynb\" target=\"_parent\"><img src=\"https://colab.research.google.com/assets/colab-badge.svg\" alt=\"Open In Colab\"/></a>"
      ]
    },
    {
      "cell_type": "markdown",
      "metadata": {
        "id": "nxRhf_gEa9kC"
      },
      "source": [
        "**Задание 5.1**\n",
        "*Задание выполнено на листе*\n",
        "\n",
        "а) Вектор – это частный случай матрицы 1хN и Nх1. Повторите материал для векторов, уделяя особое внимание умножению A∙B.\n"
      ]
    },
    {
      "cell_type": "code",
      "metadata": {
        "colab": {
          "base_uri": "https://localhost:8080/"
        },
        "id": "6GtVGQlCbFEr",
        "outputId": "e9885189-0677-4d18-f849-7e4f0e00901b"
      },
      "source": [
        "import numpy as np\n",
        "\n",
        "m = np.array([1, 2, 3], float)\n",
        "n = np.array([4, 5, 6], float)\n",
        "\n",
        "\n",
        "# скалярное произведение\n",
        "print('Скалярное произведение через dot', np.dot(m, n))\n",
        "print('Скалярное произведение через dot', np.inner(m, n))\n",
        "\n",
        "\n",
        "# векторное произведение\n",
        "\n",
        "print('Векторное произведение', np.cross(m, n))"
      ],
      "execution_count": 3,
      "outputs": [
        {
          "output_type": "stream",
          "text": [
            "Скалярное произведение через dot 32.0\n",
            "Скалярное произведение через dot 32.0\n",
            "Векторное произведение [-3.  6. -3.]\n"
          ],
          "name": "stdout"
        }
      ]
    },
    {
      "cell_type": "markdown",
      "metadata": {
        "id": "jqpEZcAzcM1G"
      },
      "source": [
        "б) Вычислите, по возможности не используя программирование: (5E)-1 где Е – единичная матрица размера 5х5."
      ]
    },
    {
      "cell_type": "code",
      "metadata": {
        "colab": {
          "base_uri": "https://localhost:8080/"
        },
        "id": "Eli4HOvKcQQU",
        "outputId": "62111b2d-fe7c-4011-dd15-5dd3ee97899a"
      },
      "source": [
        "import numpy as np\n",
        "\n",
        "E = np.identity(5)\n",
        "print(f'Единичная матрица = \\n{E}\\n')\n",
        "\n",
        "A = np.dot(5, E)\n",
        "\n",
        "print(f'Единичная матрица * 5 = \\n{A}\\n')\n",
        "print(f'Обратная матрица = \\n{np.linalg.inv(A)}\\n')\n",
        "print(f'Проверка A*inv(A) = \\n {np.dot(A, np.linalg.inv(A))}')"
      ],
      "execution_count": 18,
      "outputs": [
        {
          "output_type": "stream",
          "text": [
            "Единичная матрица = \n",
            "[[1. 0. 0. 0. 0.]\n",
            " [0. 1. 0. 0. 0.]\n",
            " [0. 0. 1. 0. 0.]\n",
            " [0. 0. 0. 1. 0.]\n",
            " [0. 0. 0. 0. 1.]]\n",
            "\n",
            "Единичная матрица * 5 = \n",
            "[[5. 0. 0. 0. 0.]\n",
            " [0. 5. 0. 0. 0.]\n",
            " [0. 0. 5. 0. 0.]\n",
            " [0. 0. 0. 5. 0.]\n",
            " [0. 0. 0. 0. 5.]]\n",
            "\n",
            "Обратная матрица = \n",
            "[[0.2 0.  0.  0.  0. ]\n",
            " [0.  0.2 0.  0.  0. ]\n",
            " [0.  0.  0.2 0.  0. ]\n",
            " [0.  0.  0.  0.2 0. ]\n",
            " [0.  0.  0.  0.  0.2]]\n",
            "\n",
            "Проверка A*inv(A) = \n",
            " [[1. 0. 0. 0. 0.]\n",
            " [0. 1. 0. 0. 0.]\n",
            " [0. 0. 1. 0. 0.]\n",
            " [0. 0. 0. 1. 0.]\n",
            " [0. 0. 0. 0. 1.]]\n"
          ],
          "name": "stdout"
        }
      ]
    },
    {
      "cell_type": "markdown",
      "metadata": {
        "id": "aepN-NH5iIEX"
      },
      "source": [
        "**Задание 5.2.** *Задание выполнено на листе*\n",
        "\n",
        "Вычислите определитель:\n",
        "\n",
        "1 2 3\n",
        "\n",
        "4 0 6\n",
        "\n",
        "7 8 9"
      ]
    },
    {
      "cell_type": "code",
      "metadata": {
        "colab": {
          "base_uri": "https://localhost:8080/"
        },
        "id": "bBjPlnN4iXBU",
        "outputId": "a90bd3b4-844d-41d8-ef2b-a0cbbe48aa54"
      },
      "source": [
        "A = np.array([[1, 2, 3], [4, 0, 6], [7, 8, 9]])\n",
        "print(f'Определитель = \\n {np.linalg.det(A)}')"
      ],
      "execution_count": 24,
      "outputs": [
        {
          "output_type": "stream",
          "text": [
            "Определитель = \n",
            " 59.999999999999986\n"
          ],
          "name": "stdout"
        }
      ]
    },
    {
      "cell_type": "markdown",
      "metadata": {
        "id": "WOc99C1ljBf9"
      },
      "source": [
        "**Задание 5.3.** *Задание выполнено на листе*\n",
        "\n",
        "а) Вычислите матрицу, обратную данной:\n",
        "\n",
        "\n",
        "1 2 3\n",
        "\n",
        "4 0 6\n",
        "\n",
        "7 8 9\n"
      ]
    },
    {
      "cell_type": "code",
      "metadata": {
        "colab": {
          "base_uri": "https://localhost:8080/"
        },
        "id": "ZYjDILm6kwQz",
        "outputId": "29215cb8-9bbd-40ae-d747-6a857611419a"
      },
      "source": [
        "print(f'Обратная матрица = \\n {np.linalg.inv(A)}\\n')\n",
        "print(f'Проверка A*inv(A) = \\n {np.dot(A, np.linalg.inv(A))}')"
      ],
      "execution_count": 29,
      "outputs": [
        {
          "output_type": "stream",
          "text": [
            "Обратная матрица = \n",
            " [[-0.8         0.1         0.2       ]\n",
            " [ 0.1        -0.2         0.1       ]\n",
            " [ 0.53333333  0.1        -0.13333333]]\n",
            "\n",
            "Проверка A*inv(A) = \n",
            " [[ 1.00000000e+00  0.00000000e+00  0.00000000e+00]\n",
            " [-4.44089210e-16  1.00000000e+00  1.11022302e-16]\n",
            " [ 0.00000000e+00  0.00000000e+00  1.00000000e+00]]\n"
          ],
          "name": "stdout"
        }
      ]
    },
    {
      "cell_type": "markdown",
      "metadata": {
        "id": "X_sVDDPYkxCz"
      },
      "source": [
        "б) Приведите пример матрицы 4х4, ранг которой равен 1."
      ]
    },
    {
      "cell_type": "code",
      "metadata": {
        "colab": {
          "base_uri": "https://localhost:8080/"
        },
        "id": "hdYGDgeMky2k",
        "outputId": "dbd61291-2a22-4234-b00d-aeb29b605438"
      },
      "source": [
        "A = np.array([[1, 5, 3, 4], [2, 10, 6, 8], [1/2, 5/2, 3/2, 2], [3, 15, 9, 12]])\n",
        "print(A)\n",
        "print(f'\\nРанг матрицы A = {np.linalg.matrix_rank(A)}')"
      ],
      "execution_count": 30,
      "outputs": [
        {
          "output_type": "stream",
          "text": [
            "[[ 1.   5.   3.   4. ]\n",
            " [ 2.  10.   6.   8. ]\n",
            " [ 0.5  2.5  1.5  2. ]\n",
            " [ 3.  15.   9.  12. ]]\n",
            "\n",
            "Ранг матрицы A = 1\n"
          ],
          "name": "stdout"
        }
      ]
    },
    {
      "cell_type": "markdown",
      "metadata": {
        "id": "G3LJG44MlwU_"
      },
      "source": [
        "\n",
        "**Задание 5.4.** *Задание выполнено на листе*\n",
        "\n",
        "Вычислите скалярное произведение двух векторов:  (1, 5)  и  (2, 8)\n"
      ]
    },
    {
      "cell_type": "code",
      "metadata": {
        "colab": {
          "base_uri": "https://localhost:8080/"
        },
        "id": "yXX_BbcAme_Y",
        "outputId": "3299fe57-6a41-4004-8e5e-a7b932f81567"
      },
      "source": [
        "a = np.array([1, 5])\n",
        "b = np.array((2, 8))\n",
        "\n",
        "print(f'Скалярное произведение векторов = {np.dot(a, b)}')"
      ],
      "execution_count": 35,
      "outputs": [
        {
          "output_type": "stream",
          "text": [
            "Скалярное произведение векторов = 42\n"
          ],
          "name": "stdout"
        }
      ]
    },
    {
      "cell_type": "markdown",
      "metadata": {
        "id": "3KcjHLFanDFA"
      },
      "source": [
        "**Задание 5.5** *Задание выполнено на листе*\n",
        "\n",
        "(1, 5, 0), (2, 8, 7) и (7, 1.5, 3) Вычислите смешанное произведение трех векторов:\n"
      ]
    },
    {
      "cell_type": "code",
      "metadata": {
        "colab": {
          "base_uri": "https://localhost:8080/"
        },
        "id": "mB3pUWT1nZeR",
        "outputId": "e0f32046-3816-4975-ad6e-7238d2a46b73"
      },
      "source": [
        "\n",
        "a = np.array([1, 5, 0])\n",
        "b = np.array([2, 8, 7])\n",
        "c = np.array([7, 1.5, 3])\n",
        "\n",
        "A = np.array([[1, 5, 0], [2, 8, 7], [7, 1.5, 3]])\n",
        "\n",
        "print(f'a[b*c] = {np.dot(a, np.cross(b, c))}')\n",
        "print(f'a[b*c] = {np.linalg.det(A)}')"
      ],
      "execution_count": 40,
      "outputs": [
        {
          "output_type": "stream",
          "text": [
            "a[b*c] = 228.5\n",
            "a[b*c] = 228.49999999999986\n"
          ],
          "name": "stdout"
        }
      ]
    },
    {
      "cell_type": "markdown",
      "metadata": {
        "id": "rZ3D5kGRpnVO"
      },
      "source": [
        "**Задание 6.1**\n",
        "Решите линейную систему:\n",
        "\n",
        "|1 2 3 |        12\n",
        "\n",
        "|4 0 6| * X =    2\n",
        "\n",
        "|7 8 9|          1"
      ]
    },
    {
      "cell_type": "code",
      "metadata": {
        "colab": {
          "base_uri": "https://localhost:8080/"
        },
        "id": "qGu3zywhqEtW",
        "outputId": "b6fa2017-ecc5-45d2-bec7-b72270ca863b"
      },
      "source": [
        "A = np.array([[1, 2, 3], [4, 0, 6], [7, 8, 9]])\n",
        "B = np.array([12, 2, 1])\n",
        "det_A = np.linalg.det(A)\n",
        "\n",
        "print('Определитель не равен нулю, т.е. мы можем найти решение. А также мы сможем найти обратную матрицу ', round(det_A), 5)\n",
        "\n",
        "print(np.linalg.solve(A, B))\n",
        "print('\\nОбратная матрица\\n')\n",
        "print(np.linalg.inv(A))\n",
        "print('\\nПроверка обратной матрицы\\n')\n",
        "print(np.dot(np.linalg.inv(A), A))\n",
        "print('\\nРешение через обратную матрицу даёт тот же результат\\n')\n",
        "print(np.dot(np.linalg.inv(A), B))"
      ],
      "execution_count": 43,
      "outputs": [
        {
          "output_type": "stream",
          "text": [
            "Определитель не равен нулю, т.е. мы можем найти решение. А также мы сможем найти обратную матрицу  60 5\n",
            "[-9.2         0.9         6.46666667]\n",
            "\n",
            "Обратная матрица\n",
            "\n",
            "[[-0.8         0.1         0.2       ]\n",
            " [ 0.1        -0.2         0.1       ]\n",
            " [ 0.53333333  0.1        -0.13333333]]\n",
            "\n",
            "Проверка обратной матрицы\n",
            "\n",
            "[[ 1.00000000e+00  0.00000000e+00  2.77555756e-17]\n",
            " [-1.11022302e-16  1.00000000e+00  0.00000000e+00]\n",
            " [ 0.00000000e+00  0.00000000e+00  1.00000000e+00]]\n",
            "\n",
            "Решение через обратную матрицу даёт тот же результат\n",
            "\n",
            "[-9.2         0.9         6.46666667]\n"
          ],
          "name": "stdout"
        }
      ]
    },
    {
      "cell_type": "markdown",
      "metadata": {
        "id": "D6HvW1qJq-e0"
      },
      "source": [
        "**Задание 6.2** Найдите псевдорешение:\n",
        "\n",
        "x + 2y – z = 1\n",
        "\n",
        "3x – 4y = 7\n",
        "\n",
        "8x – 5y + 2z = 12\n",
        "\n",
        "2x – 5z = 7\n",
        "\n",
        "11x +4y – 7z = 15\n",
        "\n"
      ]
    },
    {
      "cell_type": "code",
      "metadata": {
        "colab": {
          "base_uri": "https://localhost:8080/"
        },
        "id": "34aY1293rKcM",
        "outputId": "5827857b-6f85-46e0-98aa-3bbca67e5d03"
      },
      "source": [
        "A = np.array([[1, 2, -1], [3, -4, 0], [8, -5, 2], [2, 0, -5], [11, 4, -7]])\n",
        "print('A =\\n', A)\n",
        "B = np.array([1, 7, 12, 7, 15])\n",
        "print('\\n')\n",
        "print('B =', B)\n",
        "\n",
        "X = np.linalg.lstsq(A, B, rcond=None)\n",
        "print('\\nПсевдорешением является', X[0])\n",
        "print('Сумма квадтратов невязок каждого уравнения', X[1])\n",
        "print('Ранг матрицы А =', X[2])\n",
        "print('\\n')\n",
        "print('Проверка. Подставим наш вектор в систему уравнений')\n",
        "\n",
        "print('B псевдо =', np.dot(A, X[0]))\n",
        "print('B =', B)\n",
        "\n",
        "print('Невязка =', np.dot(A, X[0]) - B)\n",
        "\n",
        "def Q(x, y, z):\n",
        "    return ((np.linalg.norm(np.dot(A, [x, y, z]) - B))**2)\n",
        "\n",
        "print('Проверяем квадрат невязки', round(Q(X[0][0], X[0][1], X[0][2]), 8))"
      ],
      "execution_count": 48,
      "outputs": [
        {
          "output_type": "stream",
          "text": [
            "A =\n",
            " [[ 1  2 -1]\n",
            " [ 3 -4  0]\n",
            " [ 8 -5  2]\n",
            " [ 2  0 -5]\n",
            " [11  4 -7]]\n",
            "\n",
            "\n",
            "B = [ 1  7 12  7 15]\n",
            "\n",
            "Псевдорешением является [ 1.13919353 -0.90498444 -0.9009803 ]\n",
            "Сумма квадтратов невязок каждого уравнения [0.71523211]\n",
            "Ранг матрицы А = 3\n",
            "\n",
            "\n",
            "Проверка. Подставим наш вектор в систему уравнений\n",
            "B псевдо = [ 0.23020495  7.03751834 11.83650981  6.78328855 15.21805313]\n",
            "B = [ 1  7 12  7 15]\n",
            "Невязка = [-0.76979505  0.03751834 -0.16349019 -0.21671145  0.21805313]\n",
            "Проверяем квадрат невязки 0.71523211\n"
          ],
          "name": "stdout"
        }
      ]
    },
    {
      "cell_type": "markdown",
      "metadata": {
        "id": "IXbLNWxdrxCD"
      },
      "source": [
        "**Задание 6.3.** \n",
        "\n",
        "Сколько решений имеет линейная система:\n",
        "\n",
        "|1 2 3 |        12\n",
        "\n",
        "|4 5 6| * X =    2\n",
        "\n",
        "|7 8 9|          1"
      ]
    },
    {
      "cell_type": "code",
      "metadata": {
        "colab": {
          "base_uri": "https://localhost:8080/"
        },
        "id": "KWJWCfn9yNdz",
        "outputId": "77830310-35c6-4dc0-c808-62f073d10502"
      },
      "source": [
        "\n",
        "A = np.array([[1, 2, 3], [4, 5, 6], [7, 8, 9]])\n",
        "B = np.array([[12, 2, 1]])\n",
        "\n",
        "det_A = np.linalg.det(A)\n",
        "\n",
        "print(f'Определитель равен {det_A}, таким образом система линейных систем с вырожденной матрицей.')\n",
        "\n",
        "C = np.concatenate((A, B.T), axis=1)\n",
        "print('Рассмотрим расширенную матрицу: \\n', C)\n",
        "\n",
        "rank_A = np.linalg.matrix_rank(A, 0.0001)\n",
        "rank_C = np.linalg.matrix_rank(C, 0.0001)\n",
        "\n",
        "print('\\nНайдём количество решений, которое имеет система уравнений')\n",
        "\n",
        "def K_K(rank_1, rank_2, n):\n",
        "    \n",
        "    if rank_1 < rank_2:\n",
        "        return 'Данная система не имеет решений'\n",
        "    elif rank_1 == rank_2 and rank_1 == n:\n",
        "        return 'Данная система имеет единственное решение'\n",
        "    else:\n",
        "        return 'Данная система имеет бесконечное количество решений'\n",
        "\n",
        "print(f'\\nРанг исходной матрицы = {rank_A}, Ранг расширенной матрицы = {rank_C}. {K_K(rank_A, rank_C, A.shape[1])}')\n",
        "print('-'*150)\n",
        "print('Т.к. СЛАУ выше не имеет решений, то изменим вектор B для решения уравнения')\n",
        "B = np.array([[2, 2, 2]])\n",
        "C = np.concatenate((A, B.T), axis=1)\n",
        "print('\\n Пусть теперь вектор B = [2, 2, 2]. Тогда расширенная матрица: \\n', C)\n",
        "\n",
        "rank_A = np.linalg.matrix_rank(A, 0.0001)\n",
        "rank_C = np.linalg.matrix_rank(C, 0.0001)\n",
        "# print('Количество неизвестных =', n)\n",
        "print(f'\\nТеперь ранг исходной матрицы = {rank_A}, ранг расширенной матрицы = {rank_C}. Количество неизвестных = {A.shape[1]}. {K_K(rank_A, rank_C, A.shape[1])}')\n",
        "\n",
        "X = np.linalg.lstsq(A, B.flatten(), rcond=None)\n",
        "print('Решением является', X[0])\n",
        "print('Проверка. Подставим наш вектор в систему уравнений')\n",
        "\n",
        "print('Невязка =', np.dot(A, X[0]) - B)"
      ],
      "execution_count": 57,
      "outputs": [
        {
          "output_type": "stream",
          "text": [
            "Определитель равен 0.0, таким образом система линейных систем с вырожденной матрицей.\n",
            "Рассмотрим расширенную матрицу: \n",
            " [[ 1  2  3 12]\n",
            " [ 4  5  6  2]\n",
            " [ 7  8  9  1]]\n",
            "\n",
            "Найдём количество решений, которое имеет система уравнений\n",
            "\n",
            "Ранг исходной матрицы = 2, Ранг расширенной матрицы = 3. Данная система не имеет решений\n",
            "------------------------------------------------------------------------------------------------------------------------------------------------------\n",
            "Т.к. СЛАУ выше не имеет решений, то изменим вектор B для решения уравнения\n",
            "\n",
            " Пусть теперь вектор B = [2, 2, 2]. Тогда расширенная матрица: \n",
            " [[1 2 3 2]\n",
            " [4 5 6 2]\n",
            " [7 8 9 2]]\n",
            "\n",
            "Теперь ранг исходной матрицы = 2, ранг расширенной матрицы = 2. Количество неизвестных = 3. Данная система имеет бесконечное количество решений\n",
            "Решением является [-1.00000000e+00  5.55111512e-16  1.00000000e+00]\n",
            "Проверка. Подставим наш вектор в систему уравнений\n",
            "Невязка = [[-8.88178420e-16 -8.88178420e-16 -6.66133815e-16]]\n"
          ],
          "name": "stdout"
        }
      ]
    },
    {
      "cell_type": "markdown",
      "metadata": {
        "id": "R-4kb0Bt0GID"
      },
      "source": [
        "**Задание 6.4** \n",
        "\n",
        "Вычислите LU-разложение матрицы:\n",
        "\n",
        "|1   2   3|\n",
        "\n",
        "|2  16  21|\n",
        "\n",
        "|4  28  73|\n"
      ]
    },
    {
      "cell_type": "code",
      "metadata": {
        "colab": {
          "base_uri": "https://localhost:8080/"
        },
        "id": "1E4Mr7sL0P4Z",
        "outputId": "fdd5dcc6-3421-4fa0-d9e5-d9d26ddfd253"
      },
      "source": [
        "import scipy\n",
        "import scipy.linalg\n",
        "\n",
        "A = np.array([[1, 2, 3], [2, 16, 21], [4, 28, 73]])\n",
        "print(A)\n",
        "\n",
        "P, L, U = scipy.linalg.lu(A)\n",
        "print(f'P: \\n{P}')\n",
        "print(f'L: \\n{L}')\n",
        "print(f'U: \\n{U}')\n",
        "print('-' * 150)\n",
        "print(f'P * A - L * U: \\n{np.dot(P, A) - np.dot(L, U)}')\n",
        "print('Требуется, чтобы P * A = L * U. У нас это не так')\n",
        "# print(f'P*A:\\n{P * A}')\n",
        "print(np.dot(P, A))\n",
        "# # print(f'L*U:\\n{L * U}')\n",
        "print(np.dot(L, U))\n",
        "#\n",
        "#\n",
        "det_A = np.linalg.det(A)\n",
        "print('Определитель', round(det_A, 2))\n",
        "\n",
        "print('-' * 150)\n",
        "print('Подставим рандомный вектор В')\n",
        "B = np.array([2, 2, 2])\n",
        "X = np.linalg.solve(A, B)\n",
        "print('Найденное решение', X)\n",
        "print('Невязка =', np.dot(A, X) - B)\n",
        "print('Подставляем найденное решение X в уравнение. Получаем вектор B', np.dot(A, X))"
      ],
      "execution_count": 64,
      "outputs": [
        {
          "output_type": "stream",
          "text": [
            "[[ 1  2  3]\n",
            " [ 2 16 21]\n",
            " [ 4 28 73]]\n",
            "P: \n",
            "[[0. 1. 0.]\n",
            " [0. 0. 1.]\n",
            " [1. 0. 0.]]\n",
            "L: \n",
            "[[ 1.    0.    0.  ]\n",
            " [ 0.25  1.    0.  ]\n",
            " [ 0.5  -0.4   1.  ]]\n",
            "U: \n",
            "[[  4.    28.    73.  ]\n",
            " [  0.    -5.   -15.25]\n",
            " [  0.     0.   -21.6 ]]\n",
            "------------------------------------------------------------------------------------------------------------------------------------------------------\n",
            "P * A - L * U: \n",
            "[[ -2. -12. -52.]\n",
            " [  3.  26.  70.]\n",
            " [ -1. -14. -18.]]\n",
            "Требуется, чтобы P * A = L * U. У нас это не так\n",
            "[[ 2. 16. 21.]\n",
            " [ 4. 28. 73.]\n",
            " [ 1.  2.  3.]]\n",
            "[[ 4. 28. 73.]\n",
            " [ 1.  2.  3.]\n",
            " [ 2. 16. 21.]]\n",
            "Определитель 432.0\n",
            "------------------------------------------------------------------------------------------------------------------------------------------------------\n",
            "Подставим рандомный вектор В\n",
            "Найденное решение [ 2.37037037 -0.07407407 -0.07407407]\n",
            "Невязка = [0.00000000e+00 4.44089210e-16 1.33226763e-15]\n",
            "Подставляем найденное решение X в уравнение. Получаем вектор B [2. 2. 2.]\n"
          ],
          "name": "stdout"
        }
      ]
    },
    {
      "cell_type": "markdown",
      "metadata": {
        "id": "qYWhZuYs4_qN"
      },
      "source": [
        "\n",
        "**Задание 6.5** \n",
        "\n",
        "Найдите нормальное псевдорешение недоопределенной системы:\n",
        "\n",
        "x + 2y – z = 1  \n",
        "\n",
        "8x – 5y + 2z = 12\n"
      ]
    },
    {
      "cell_type": "code",
      "metadata": {
        "colab": {
          "base_uri": "https://localhost:8080/",
          "height": 330
        },
        "id": "U8JjX7rG5JwQ",
        "outputId": "dd85c9b0-3fbe-412a-ad4b-8d30ee1f2635"
      },
      "source": [
        "####5\n",
        "\n",
        "import matplotlib.pyplot as plt\n",
        "\n",
        "A = np.array([[1, 2, -1], [8, -5, 2]])\n",
        "B = np.array([1, 12])\n",
        "\n",
        "x = np.linspace(0.5, 2.4, 200)\n",
        "y = 10 * x - 14\n",
        "z = x + 2 * y - 1\n",
        "\n",
        "def Q(x, y, z):\n",
        "    return (x**2 + y**2 + z**2)\n",
        "\n",
        "plt.plot(x, Q(x, y, z))\n",
        "plt.xlabel('x')\n",
        "plt.ylabel('Q(x, y, z)')\n",
        "plt.grid(True)\n",
        "plt.show()\n",
        "\n",
        "x = 1.37\n",
        "y = 10 * x - 14\n",
        "z = x + 2 * y - 1\n",
        "\n",
        "X_My = np.array([x, y, z])\n",
        "print('Моё решение = ', X_My)\n",
        "\n",
        "X = np.linalg.lstsq(A, B, rcond=None)\n",
        "print('Точное решение', X[0])\n",
        "print('Подставляем точное решение в уравнение. Получаем ответ', np.dot(A, X[0]), f'Это близко к значению B {B}')"
      ],
      "execution_count": 68,
      "outputs": [
        {
          "output_type": "display_data",
          "data": {
            "image/png": "[encoded data removed]",
            "text/plain": [
              "<Figure size 432x288 with 1 Axes>"
            ]
          },
          "metadata": {
            "tags": [],
            "needs_background": "light"
          }
        },
        {
          "output_type": "stream",
          "text": [
            "Моё решение =  [ 1.37 -0.3  -0.23]\n",
            "Точное решение [ 1.38191882 -0.18081181  0.0202952 ]\n",
            "Подставляем точное решение в уравнение. Получаем ответ [ 1. 12.] Это близко к значению B [ 1 12]\n"
          ],
          "name": "stdout"
        }
      ]
    },
    {
      "cell_type": "markdown",
      "metadata": {
        "id": "IMGS8hJX6Orv"
      },
      "source": [
        "**Задание 6.6.** \n",
        "\n",
        "Найдите одно из псевдорешений вырожденной системы:\n",
        "\n",
        "|1 2 3 |        2\n",
        "\n",
        "|4 5 6| * X =    5\n",
        "\n",
        "|7 8 9|          11\n",
        "\n",
        "Попробуйте также отыскать и нормальное псевдорешение.\n"
      ]
    },
    {
      "cell_type": "code",
      "metadata": {
        "colab": {
          "base_uri": "https://localhost:8080/"
        },
        "id": "feDWarP76Vs_",
        "outputId": "f1acc0c5-7552-4021-d55a-dbf197607b23"
      },
      "source": [
        "import matplotlib.pyplot as plt\n",
        "\n",
        "A = np.array([[1, 2, 3], [4, 5, 6], [7, 8, 9]])\n",
        "B = np.array([[2, 5, 11]])\n",
        "\n",
        "print('Исходная матрица A\\n', A)\n",
        "\n",
        "det_A = np.linalg.det(A)\n",
        "print(f'Определитель равен {det_A}, таким образом система линейных систем с вырожденной матрицей. Система имеет'\n",
        "      f'бесконечное множество псевдорешений минимизирующих норму невязки')\n",
        "\n",
        "print('Разложим при помощи QR разложения.')\n",
        "Q, R = np.linalg.qr(A)\n",
        "print(f'Q: \\n{Q}')\n",
        "print(f'R: \\n{R}')\n",
        "\n",
        "print(f'Q*R = \\n{np.dot(Q, R)}\\nПолучаем матрицу близкую к исходной. Соответственно разложение верно')\n",
        "print('Проверим, что матрица Q ортогональная. Умножим транспонированную матирицу на саму себя. Должны получить единичную.')\n",
        "print(f'Qt * Q \\n{np.dot(np.transpose(Q), Q)}')\n",
        "# print('\\nR1*X1 = Qt*B - R2*X2')\n",
        "print('\\nВыделим матрицы R1(верхнетреугольная матрица)  и B1')\n",
        "\n",
        "R1 = R[:2, :2]\n",
        "print(f'R1: \\n{R1}')\n",
        "\n",
        "B1 = np.dot(np.transpose(Q), B.flatten())[:2]\n",
        "print(f'B1: \\n{B1}')\n",
        "\n",
        "X1 = np.linalg.solve(R1, B1)\n",
        "print(f'X1:\\n{X1}')\n",
        "\n",
        "X = np.append(X1, 0)\n",
        "print(f'Псевдорешение для исходной системы X:\\n{X}')\n",
        "print(f'Норма:\\n{np.linalg.norm(X)}')\n",
        "\n",
        "print('Невязка = ', np.linalg.norm(np.dot(A, X) - B))\n",
        "print('-' * 150)\n",
        "print('Найдём нормальное псевдорешение')\n",
        "\n",
        "X_res = np.linalg.lstsq(A, B.flatten(), rcond=None)\n",
        "print(X_res[0])\n",
        "print('Проверим решение, подставив в систему уравнений', np.dot(A, X_res[0]))\n",
        "\n",
        "\n",
        "X = X_res[0]\n",
        "print('Норма вектора X:', np.linalg.norm(X))\n",
        "print('Норма вектора невязки исходной системы', np.linalg.norm(np.dot(A, X) - B), 'эта невязка совпадает с невязкой всех псевдорешений')"
      ],
      "execution_count": 74,
      "outputs": [
        {
          "output_type": "stream",
          "text": [
            "Исходная матрица A\n",
            " [[1 2 3]\n",
            " [4 5 6]\n",
            " [7 8 9]]\n",
            "Определитель равен 0.0, таким образом система линейных систем с вырожденной матрицей. Система имеетбесконечное множество псевдорешений минимизирующих норму невязки\n",
            "Разложим при помощи QR разложения.\n",
            "Q: \n",
            "[[-0.12309149  0.90453403  0.40824829]\n",
            " [-0.49236596  0.30151134 -0.81649658]\n",
            " [-0.86164044 -0.30151134  0.40824829]]\n",
            "R: \n",
            "[[-8.12403840e+00 -9.60113630e+00 -1.10782342e+01]\n",
            " [ 0.00000000e+00  9.04534034e-01  1.80906807e+00]\n",
            " [ 0.00000000e+00  0.00000000e+00 -7.58790979e-16]]\n",
            "Q*R = \n",
            "[[1. 2. 3.]\n",
            " [4. 5. 6.]\n",
            " [7. 8. 9.]]\n",
            "Получаем матрицу близкую к исходной. Соответственно разложение верно\n",
            "Проверим, что матрица Q ортогональная. Умножим транспонированную матирицу на саму себя. Должны получить единичную.\n",
            "Qt * Q \n",
            "[[ 1.00000000e+00 -2.48218629e-16 -2.62094065e-17]\n",
            " [-2.48218629e-16  1.00000000e+00  2.82872043e-17]\n",
            " [-2.62094065e-17  2.82872043e-17  1.00000000e+00]]\n",
            "\n",
            "Выделим матрицы R1(верхнетреугольная матрица)  и B1\n",
            "R1: \n",
            "[[-8.1240384  -9.6011363 ]\n",
            " [ 0.          0.90453403]]\n",
            "B1: \n",
            "[-1.21860576e+01  3.33066907e-15]\n",
            "X1:\n",
            "[1.50000000e+00 3.68219321e-15]\n",
            "Псевдорешение для исходной системы X:\n",
            "[1.50000000e+00 3.68219321e-15 0.00000000e+00]\n",
            "Норма:\n",
            "1.499999999999996\n",
            "Невязка =  1.2247448713915892\n",
            "------------------------------------------------------------------------------------------------------------------------------------------------------\n",
            "Найдём нормальное псевдорешение\n",
            "[ 1.25  0.5  -0.25]\n",
            "Проверим решение, подставив в систему уравнений [ 1.5  6.  10.5]\n",
            "Норма вектора X: 1.3693063937629146\n",
            "Норма вектора невязки исходной системы 1.2247448713915887 эта невязка совпадает с невязкой всех псевдорешений\n"
          ],
          "name": "stdout"
        }
      ]
    }
  ]
}