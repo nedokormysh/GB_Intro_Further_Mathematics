{
  "nbformat": 4,
  "nbformat_minor": 0,
  "metadata": {
    "colab": {
      "name": "Homework5.ipynb",
      "provenance": [],
      "authorship_tag": "ABX9TyM6duFFxDDfnF8AsB6/1pil",
      "include_colab_link": true
    },
    "kernelspec": {
      "name": "python3",
      "display_name": "Python 3"
    },
    "language_info": {
      "name": "python"
    }
  },
  "cells": [
    {
      "cell_type": "markdown",
      "metadata": {
        "id": "view-in-github",
        "colab_type": "text"
      },
      "source": [
        "<a href=\"https://colab.research.google.com/github/nedokormysh/GB_Intro_Further_Mathematics/blob/lesson3/Homework5.ipynb\" target=\"_parent\"><img src=\"https://colab.research.google.com/assets/colab-badge.svg\" alt=\"Open In Colab\"/></a>"
      ]
    },
    {
      "cell_type": "markdown",
      "metadata": {
        "id": "WL9rml6XQ5Bi"
      },
      "source": [
        "1. Напишите код, моделирующий выпадение поля в рулетке (с учетом поля зеро)."
      ]
    },
    {
      "cell_type": "code",
      "metadata": {
        "colab": {
          "base_uri": "https://localhost:8080/"
        },
        "id": "Iz05-C6ZQ7-F",
        "outputId": "99270614-f62d-4023-a3d9-b7a2f9a6475f"
      },
      "source": [
        "import numpy as np\n",
        "\n",
        "r = 0\n",
        "b = 0\n",
        "for i in range(0, 5):\n",
        "\n",
        "    a = input('Enter enter')\n",
        "    x = np.random.uniform(0, 37)\n",
        "\n",
        "    if int(x) == 0:\n",
        "        print(\"zero\")\n",
        "    elif int(x) % 2 == 0:\n",
        "        print(int(x), 'red')\n",
        "        r += 1\n",
        "    else:\n",
        "        print(int(x), 'black')\n",
        "        b += 1\n",
        "\n",
        "print(f'reds = {r}, blacks = {b}')"
      ],
      "execution_count": 1,
      "outputs": [
        {
          "output_type": "stream",
          "text": [
            "Enter enter\n",
            "zero\n",
            "Enter enter\n",
            "7 black\n",
            "Enter enter\n",
            "28 red\n",
            "Enter enter\n",
            "32 red\n",
            "Enter enter\n",
            "32 red\n",
            "reds = 3, blacks = 1\n"
          ],
          "name": "stdout"
        }
      ]
    },
    {
      "cell_type": "markdown",
      "metadata": {
        "id": "r_nP2xprRiXj"
      },
      "source": [
        "2.1 Напишите код, проверяющий любую из теорем сложения или умножения вероятности на примере рулетки или подбрасывания монетки."
      ]
    },
    {
      "cell_type": "code",
      "metadata": {
        "colab": {
          "base_uri": "https://localhost:8080/"
        },
        "id": "5gyApB_2Rnx4",
        "outputId": "2be4fc15-b642-4e0d-d6c7-172d68654ffc"
      },
      "source": [
        "import numpy as np\n",
        "r = 0\n",
        "b = 0\n",
        "zero = 0\n",
        "\n",
        "number_of_throws = 1000 #int(input('Enter number of throws: '))\n",
        "for i in range(0, number_of_throws):\n",
        "    x = np.random.uniform(0, 37)\n",
        "\n",
        "    if int(x) == 0:\n",
        "        zero += 1\n",
        "    elif int(x) % 2 == 0:\n",
        "        r += 1\n",
        "    else:        \n",
        "        b += 1\n",
        "\n",
        "\n",
        "print(f'Частота вероятности выпадения красного = {r/number_of_throws}, частота вероятности выпадения чёрного = {b/number_of_throws}. Частота вероятности выпадения зеро = {zero/number_of_throws} '\n",
        "      f'Это число должно быть равно 1. {(r/number_of_throws + b/number_of_throws + zero/number_of_throws) == 1}')"
      ],
      "execution_count": 17,
      "outputs": [
        {
          "output_type": "stream",
          "text": [
            "Частота вероятности выпадения красного = 0.463, частота вероятности выпадения чёрного = 0.503. Частота вероятности выпадения зеро = 0.034 Это число должно быть равно 1. True\n"
          ],
          "name": "stdout"
        }
      ]
    },
    {
      "cell_type": "markdown",
      "metadata": {
        "id": "5XBLCm-4SZS_"
      },
      "source": [
        "2.2 Сгенерируйте десять выборок случайных чисел х0, …, х9.\n",
        "и постройте гистограмму распределения случайной суммы  +х1+ …+ х9. "
      ]
    },
    {
      "cell_type": "code",
      "metadata": {
        "colab": {
          "base_uri": "https://localhost:8080/",
          "height": 480
        },
        "id": "UAMTzSHdSfDr",
        "outputId": "8a129c70-b726-4c77-db5f-b73b753449b6"
      },
      "source": [
        "import numpy as np\n",
        "import matplotlib.pyplot as plt\n",
        "\n",
        "all = []\n",
        "\n",
        "for n in range(10):\n",
        "    a = np.random.randint(1, 100, 24)\n",
        "    all.append(a)\n",
        "print(all)\n",
        "\n",
        "num_bins = 5\n",
        "n, bins, patches = plt.hist([np.sum(x) for x in all], num_bins)\n",
        "plt.xlabel('summa')\n",
        "plt.ylabel('Probability')\n",
        "plt.title('Histogram')\n",
        "plt.show()"
      ],
      "execution_count": 28,
      "outputs": [
        {
          "output_type": "stream",
          "text": [
            "[array([62, 17, 47, 63, 32,  4,  2, 50, 46,  9, 35, 43,  7, 92, 30,  6, 58,\n",
            "       43, 94, 40, 10, 94, 39, 72]), array([41, 86, 90, 72, 41, 73,  5,  4, 71, 63, 96, 77, 44, 17, 85, 86, 73,\n",
            "       95, 17, 89, 16, 59, 83, 79]), array([69, 54, 52, 53, 44,  1, 73, 48, 96, 63, 71,  4, 77, 58, 89, 53, 89,\n",
            "       65, 85, 88, 81,  4,  2, 41]), array([ 1, 55, 80, 10,  4, 12, 27, 27, 80, 77, 95, 38, 86, 79, 63, 94, 58,\n",
            "       90,  1, 19, 40,  5, 47, 92]), array([19, 73, 60, 26, 33, 93, 14, 75, 48, 18, 21, 23, 83, 71, 68, 61, 81,\n",
            "       30, 42, 37, 80, 11, 10, 35]), array([48, 18, 65, 62, 42, 37, 65, 34, 64, 58, 65, 35, 74, 48,  8,  7,  3,\n",
            "        3, 38, 92, 56, 64, 98,  2]), array([53, 81, 58, 71, 65, 22, 33,  8, 70, 13, 84, 24, 17, 59, 16,  4, 16,\n",
            "       84, 12, 18, 39, 88, 56, 79]), array([31, 70, 42, 19, 87, 59, 73, 92, 90, 77, 20, 87, 91, 15, 90, 34, 24,\n",
            "       43, 80, 81,  4, 62,  2, 11]), array([50, 23, 59,  7, 97, 58, 34, 64,  2, 10, 77, 39, 85, 50,  8, 84, 55,\n",
            "       84, 23, 51, 19, 72, 82, 68]), array([73, 58, 81, 19, 16, 32, 28, 47,  3, 11, 57, 58, 16, 55, 73, 63, 74,\n",
            "       84, 87,  3,  6, 79, 23, 35])]\n"
          ],
          "name": "stdout"
        },
        {
          "output_type": "display_data",
          "data": {
            "image/png": "[encoded data removed]",
            "text/plain": [
              "<Figure size 432x288 with 1 Axes>"
            ]
          },
          "metadata": {
            "tags": [],
            "needs_background": "light"
          }
        }
      ]
    },
    {
      "cell_type": "markdown",
      "metadata": {
        "id": "bFNpGtJcTXaS"
      },
      "source": [
        "3.1 Дополните код Монте-Карло последовательности независимых испытаний расчетом соответствующих вероятностей (через биномиальное распределение) \n",
        "и сравните результаты.\n",
        "\n",
        "k, n = 0, 10000\n",
        "\n",
        "a = np.random.randint(0, 2, n)\n",
        "\n",
        "b = np.random.randint(0, 2, n)\n",
        "\n",
        "c = np.random.randint(0, 2, n)\n",
        "\n",
        "d = np.random.randint(0, 2, n)\n",
        "\n",
        "x = a + b + c + d\n",
        "\n",
        "for i in range(0, n):\n",
        "\n",
        "    if x[i] == 2:\n",
        "\n",
        "        k = k + 1\n",
        "\n",
        "\n",
        "print(k, n, k/n)\n"
      ]
    },
    {
      "cell_type": "code",
      "metadata": {
        "colab": {
          "base_uri": "https://localhost:8080/"
        },
        "id": "g7c6Qp85T83m",
        "outputId": "94ba1f50-ab54-434e-c08c-13e6dd124f1f"
      },
      "source": [
        "def Monte_Carlo(k, n):\n",
        "    a = np.random.randint(0, 2, n)\n",
        "    b = np.random.randint(0, 2, n)\n",
        "    c = np.random.randint(0, 2, n)\n",
        "    d = np.random.randint(0, 2, n)\n",
        "    x = a + b + c + d\n",
        "    for i in range(0, n):\n",
        "        if x[i] == 2:\n",
        "            k = k + 1\n",
        "    return k / n\n",
        "\n",
        "# при четырёх испытаниях выпадет 2 успеха\n",
        "def Bernulli(k, n, p = 0.5):\n",
        "    q = 1 - p\n",
        "    C = np.math.factorial(n)/(np.math.factorial(k)*np.math.factorial(n - k))\n",
        "    return C * np.power(p, k) * np.power(q, n - k)\n",
        "\n",
        "print(f'Monte_Carlo = {np.round(Monte_Carlo(0, 1000), 3)}, Bernulli = {np.round(Bernulli(2, 4), 3)}')"
      ],
      "execution_count": 30,
      "outputs": [
        {
          "output_type": "stream",
          "text": [
            "Monte_Carlo = 0.392, Bernulli = 0.375\n"
          ],
          "name": "stdout"
        }
      ]
    },
    {
      "cell_type": "markdown",
      "metadata": {
        "id": "ixW-U-RGUKQR"
      },
      "source": [
        "3.2 Повторите расчеты биномиальных коэффициентов и вероятностей k успехов в последовательности из n независимых испытаний, взяв другие значения n и k."
      ]
    },
    {
      "cell_type": "code",
      "metadata": {
        "colab": {
          "base_uri": "https://localhost:8080/"
        },
        "id": "xANjYDaZUM3M",
        "outputId": "2b700960-dae4-4833-d829-e5a237392848"
      },
      "source": [
        "def Monte_Carlo(k, n):\n",
        "    a = np.random.randint(0, 2, n)\n",
        "    b = np.random.randint(0, 2, n)\n",
        "    c = np.random.randint(0, 2, n)\n",
        "    d = np.random.randint(0, 2, n)\n",
        "    f = np.random.randint(0, 2, n)\n",
        "    g = np.random.randint(0, 2, n)\n",
        "\n",
        "    x = a + b + c + d + f + g\n",
        "    for i in range(0, n):\n",
        "        if x[i] == 3:\n",
        "            k = k + 1\n",
        "    return k / n\n",
        "# 3 успешных при 6 испытаниях\n",
        "def Bernulli(k, n, p = 0.5):\n",
        "    q = 1 - p\n",
        "    C = np.math.factorial(n)/(np.math.factorial(k)*np.math.factorial(n - k))\n",
        "    return C * np.power(p, k) * np.power(q, n - k)\n",
        "\n",
        "print(f'Monte_Carlo = {np.round(Monte_Carlo(0, 1000), 3)}, Bernulli = {np.round(Bernulli(3, 6), 3)}')"
      ],
      "execution_count": 31,
      "outputs": [
        {
          "output_type": "stream",
          "text": [
            "Monte_Carlo = 0.305, Bernulli = 0.312\n"
          ],
          "name": "stdout"
        }
      ]
    },
    {
      "cell_type": "markdown",
      "metadata": {
        "id": "-h0oinVZUvmx"
      },
      "source": [
        "4. (не обязательно, но желательно) Из урока по комбинаторике повторите расчеты, сгенерировав возможные варианты перестановок для других значений n и k"
      ]
    },
    {
      "cell_type": "code",
      "metadata": {
        "colab": {
          "base_uri": "https://localhost:8080/"
        },
        "id": "Zmlbhd6FUzsb",
        "outputId": "a0784448-352f-4778-d8ec-442d444b7819"
      },
      "source": [
        "import itertools\n",
        "\n",
        "#для других k и n\n",
        "#размещения\n",
        "print('размещения')\n",
        "for p in itertools.permutations(\"01234\", 3):\n",
        "    print(''.join(str(x) for x in p))\n",
        "\n",
        "\n",
        "#комбинации - сочетания\n",
        "print('комбинации')\n",
        "for p in itertools.combinations(\"01234\", 2):\n",
        "     print(''.join(p))\n",
        "\n",
        "for p in itertools.product(\"01234\",repeat = 3):\n",
        "    print(''.join(p))"
      ],
      "execution_count": 36,
      "outputs": [
        {
          "output_type": "stream",
          "text": [
            "размещения\n",
            "012\n",
            "013\n",
            "014\n",
            "021\n",
            "023\n",
            "024\n",
            "031\n",
            "032\n",
            "034\n",
            "041\n",
            "042\n",
            "043\n",
            "102\n",
            "103\n",
            "104\n",
            "120\n",
            "123\n",
            "124\n",
            "130\n",
            "132\n",
            "134\n",
            "140\n",
            "142\n",
            "143\n",
            "201\n",
            "203\n",
            "204\n",
            "210\n",
            "213\n",
            "214\n",
            "230\n",
            "231\n",
            "234\n",
            "240\n",
            "241\n",
            "243\n",
            "301\n",
            "302\n",
            "304\n",
            "310\n",
            "312\n",
            "314\n",
            "320\n",
            "321\n",
            "324\n",
            "340\n",
            "341\n",
            "342\n",
            "401\n",
            "402\n",
            "403\n",
            "410\n",
            "412\n",
            "413\n",
            "420\n",
            "421\n",
            "423\n",
            "430\n",
            "431\n",
            "432\n",
            "комбинации\n",
            "01\n",
            "02\n",
            "03\n",
            "04\n",
            "12\n",
            "13\n",
            "14\n",
            "23\n",
            "24\n",
            "34\n",
            "000\n",
            "001\n",
            "002\n",
            "003\n",
            "004\n",
            "010\n",
            "011\n",
            "012\n",
            "013\n",
            "014\n",
            "020\n",
            "021\n",
            "022\n",
            "023\n",
            "024\n",
            "030\n",
            "031\n",
            "032\n",
            "033\n",
            "034\n",
            "040\n",
            "041\n",
            "042\n",
            "043\n",
            "044\n",
            "100\n",
            "101\n",
            "102\n",
            "103\n",
            "104\n",
            "110\n",
            "111\n",
            "112\n",
            "113\n",
            "114\n",
            "120\n",
            "121\n",
            "122\n",
            "123\n",
            "124\n",
            "130\n",
            "131\n",
            "132\n",
            "133\n",
            "134\n",
            "140\n",
            "141\n",
            "142\n",
            "143\n",
            "144\n",
            "200\n",
            "201\n",
            "202\n",
            "203\n",
            "204\n",
            "210\n",
            "211\n",
            "212\n",
            "213\n",
            "214\n",
            "220\n",
            "221\n",
            "222\n",
            "223\n",
            "224\n",
            "230\n",
            "231\n",
            "232\n",
            "233\n",
            "234\n",
            "240\n",
            "241\n",
            "242\n",
            "243\n",
            "244\n",
            "300\n",
            "301\n",
            "302\n",
            "303\n",
            "304\n",
            "310\n",
            "311\n",
            "312\n",
            "313\n",
            "314\n",
            "320\n",
            "321\n",
            "322\n",
            "323\n",
            "324\n",
            "330\n",
            "331\n",
            "332\n",
            "333\n",
            "334\n",
            "340\n",
            "341\n",
            "342\n",
            "343\n",
            "344\n",
            "400\n",
            "401\n",
            "402\n",
            "403\n",
            "404\n",
            "410\n",
            "411\n",
            "412\n",
            "413\n",
            "414\n",
            "420\n",
            "421\n",
            "422\n",
            "423\n",
            "424\n",
            "430\n",
            "431\n",
            "432\n",
            "433\n",
            "434\n",
            "440\n",
            "441\n",
            "442\n",
            "443\n",
            "444\n"
          ],
          "name": "stdout"
        }
      ]
    },
    {
      "cell_type": "markdown",
      "metadata": {
        "id": "1t65p0U0Vdra"
      },
      "source": [
        "5. (не обязательно) Дополните код расчетом коэффициента корреляции x и y по формуле"
      ]
    },
    {
      "cell_type": "code",
      "metadata": {
        "colab": {
          "base_uri": "https://localhost:8080/",
          "height": 331
        },
        "id": "ZeR2HXnYVilM",
        "outputId": "53dc1293-bd22-44ae-f7fa-af13b8b354d9"
      },
      "source": [
        "def R(x, y):\n",
        "    a = np.sum((x - np.mean(x)) * (y - np.mean(y)))\n",
        "    b = np.sqrt(np.sum(np.power(x - np.mean(x), 2)) * np.sum(np.power(y - np.mean(y), 2)))\n",
        "    return a / b\n",
        "\n",
        "n = 100\n",
        "r = 0.7\n",
        "x = np.random.rand(n)\n",
        "y = r*x + (1 - r)*np.random.rand(n)\n",
        "plt.plot(x, y, 'o')\n",
        "plt.xlabel('x')\n",
        "plt.ylabel('y')\n",
        "plt.grid(True)\n",
        "\n",
        "a = (np.sum(x)*np.sum(y) - n*np.sum(x*y))/(np.sum(x)*np.sum(x) - n*np.sum(x*x))\n",
        "b = (np.sum(y) - a*np.sum(x))/n\n",
        "\n",
        "A = np.vstack([x, np.ones(len(x))]).T\n",
        "a1, b1 = np.linalg.lstsq(A, y, rcond = None)[0]\n",
        "print(a, b)\n",
        "print(a1, b1)\n",
        "plt.plot([0, 1], [b, a + b])\n",
        "plt.show()\n",
        "print(f'R: {np.round(R(x, y), 4)}')"
      ],
      "execution_count": 46,
      "outputs": [
        {
          "output_type": "stream",
          "text": [
            "0.6401977058277729 0.1778068331873181\n",
            "0.640197705827773 0.17780683318731821\n"
          ],
          "name": "stdout"
        },
        {
          "output_type": "display_data",
          "data": {
            "image/png": "[encoded data removed]",
            "text/plain": [
              "<Figure size 432x288 with 1 Axes>"
            ]
          },
          "metadata": {
            "tags": [],
            "needs_background": "light"
          }
        },
        {
          "output_type": "stream",
          "text": [
            "R: 0.9258\n"
          ],
          "name": "stdout"
        }
      ]
    }
  ]
}